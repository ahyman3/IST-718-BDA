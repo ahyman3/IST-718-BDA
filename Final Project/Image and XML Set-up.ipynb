{
 "cells": [
  {
   "cell_type": "code",
   "execution_count": 51,
   "metadata": {},
   "outputs": [],
   "source": [
    "import numpy as np\n",
    "from pymongo import MongoClient\n",
    "import pydicom as pyd\n",
    "import matplotlib.pyplot as plt\n",
    "import pandas as pd\n",
    "from PIL import Image\n",
    "import scipy.misc\n",
    "import xml.etree.ElementTree as ET\n",
    "import os\n",
    "from random import shuffle\n",
    "from shutil import copyfile"
   ]
  },
  {
   "cell_type": "code",
   "execution_count": 2,
   "metadata": {},
   "outputs": [],
   "source": [
    "#Connecting to database\n",
    "client = MongoClient('localhost', 27017)\n",
    "db = client['rsna-xray']\n",
    "col = db['patient']"
   ]
  },
  {
   "cell_type": "code",
   "execution_count": 3,
   "metadata": {},
   "outputs": [],
   "source": [
    "#Getting the objects with lung opacities\n",
    "lung_opacities = col.find({\"class\":\"Lung Opacity\"})\n",
    "#Converting to list\n",
    "lung_opacities = list(lung_opacities)"
   ]
  },
  {
   "cell_type": "code",
   "execution_count": 31,
   "metadata": {},
   "outputs": [],
   "source": [
    "data = ET.Element('annotation')\n",
    "folder = ET.SubElement(data, 'folder')\n",
    "folder.text = \"Final Project\"\n",
    "file = ET.SubElement(data, \"filename\")\n",
    "file.text = \"image.jpg\"\n",
    "path = ET.SubElement(data, \"path\")\n",
    "path.text = os.getcwd() + \"/{:s}\".format(\"image.jpg\")\n",
    "source = ET.SubElement(data, \"source\")\n",
    "datab = ET.SubElement(source, \"database\")\n",
    "datab.text = \"Unknown\"\n",
    "size = ET.SubElement(data, \"size\")\n",
    "width = ET.SubElement(size, \"width\")\n",
    "height = ET.SubElement(size, \"height\")\n",
    "depth = ET.SubElement(size, \"depth\")\n",
    "width.text = \"1024\"\n",
    "height.text = \"1024\"\n",
    "depth.text = \"1\"\n",
    "seg = ET.SubElement(data, \"segmented\")\n",
    "seg.text = \"0\"\n",
    "obj = ET.SubElement(data, \"object\")\n",
    "name1 = ET.SubElement(obj, \"name\")\n",
    "name1.text = \"lungopacity\"\n",
    "pose1 = ET.SubElement(obj, \"pose\")\n",
    "pose1.text = \"Unspecified\"\n",
    "truncated = ET.SubElement(obj, \"truncated\")\n",
    "truncated.text = \"0\"\n",
    "diff = ET.SubElement(obj, \"difficult\")\n",
    "diff.text = \"0\"\n",
    "bndbox = ET.SubElement(obj, \"bndbox\")\n",
    "xmin = ET.SubElement(bndbox, \"xmin\")\n",
    "xmin.text = \"570\"\n",
    "ymin = ET.SubElement(bndbox, \"ymin\")\n",
    "ymin.text = \"262\"\n",
    "xmax = ET.SubElement(bndbox, \"xmax\")\n",
    "xmax.text = \"670\"\n",
    "ymax = ET.SubElement(bndbox, \"ymax\")\n",
    "ymax.text = \"551\"\n",
    "obj = ET.SubElement(data, \"object\")\n",
    "name1 = ET.SubElement(obj, \"name\")\n",
    "name1.text = \"lungopacity\"\n",
    "pose1 = ET.SubElement(obj, \"pose\")\n",
    "pose1.text = \"Unspecified\"\n",
    "truncated = ET.SubElement(obj, \"truncated\")\n",
    "truncated.text = \"0\"\n",
    "diff = ET.SubElement(obj, \"difficult\")\n",
    "diff.text = \"0\"\n",
    "bndbox = ET.SubElement(obj, \"bndbox\")\n",
    "xmin = ET.SubElement(bndbox, \"xmin\")\n",
    "xmin.text = \"570\"\n",
    "ymin = ET.SubElement(bndbox, \"ymin\")\n",
    "ymin.text = \"262\"\n",
    "xmax = ET.SubElement(bndbox, \"xmax\")\n",
    "xmax.text = \"670\"\n",
    "ymax = ET.SubElement(bndbox, \"ymax\")\n",
    "ymax.text = \"551\""
   ]
  },
  {
   "cell_type": "code",
   "execution_count": 32,
   "metadata": {},
   "outputs": [],
   "source": [
    "mydata = ET.tostring(data, encoding=\"unicode\")\n",
    "with open(\"img.xml\", \"w\") as f:\n",
    "    f.write(mydata)\n",
    "    f.close()"
   ]
  },
  {
   "cell_type": "code",
   "execution_count": 27,
   "metadata": {},
   "outputs": [
    {
     "data": {
      "text/plain": [
       "b'<annotation><folder>Final Project</folder><filename>image.jpg</filename><path>/Users/alexhyman/Documents/Syracuse/Current Classes/Big Data Analytics/Project/Final Project/image.jpg</path><source><database>Unknown</database></source><size><width>1024</width><height>1024</height><depth>1</depth></size><segmented>0</segmented><object><name>lungopacity</name><pose>Unspecified</pose><truncated>0</truncated><difficult>0</difficult><bndbox><xmin>570</xmin><ymin>262</ymin><xmax>670</xmax><ymax>551</ymax></bndbox></object></annotation>'"
      ]
     },
     "execution_count": 27,
     "metadata": {},
     "output_type": "execute_result"
    }
   ],
   "source": [
    "mydata"
   ]
  },
  {
   "cell_type": "code",
   "execution_count": 13,
   "metadata": {},
   "outputs": [],
   "source": [
    "def img_xml_convert(doc, folderpath = \"\"):\n",
    "    #read the file\n",
    "    f = pyd.read_file(doc[\"path\"])\n",
    "    #Get the image\n",
    "    img = f.pixel_array\n",
    "    #save the picture\n",
    "    scipy.misc.imsave(folderpath + doc[\"patientID\"] + \".jpg\", img)\n",
    "    \n",
    "    #creating the xml\n",
    "    data = ET.Element('annotation')\n",
    "    folder = ET.SubElement(data, 'folder')\n",
    "    if folderpath == \"\":\n",
    "        folder.text = os.path.basename(os.getcwd())\n",
    "    else:\n",
    "        folder.text = folderpath\n",
    "    file = ET.SubElement(data, \"filename\")\n",
    "    file.text = folderpath + doc[\"patientID\"] + \".jpg\"\n",
    "    path = ET.SubElement(data, \"path\")\n",
    "    if folderpath == \"\":\n",
    "        path.text = os.getcwd() + \"/{:s}.jpg\".format(doc[\"patientID\"])\n",
    "    else:\n",
    "        path.text = os.getcwd() + \"/{:s}/{:s}.jpg\".format(folderpath, doc[\"patientID\"])\n",
    "    source = ET.SubElement(data, \"source\")\n",
    "    datab = ET.SubElement(source, \"database\")\n",
    "    datab.text = \"Unknown\"\n",
    "    size = ET.SubElement(data, \"size\")\n",
    "    width = ET.SubElement(size, \"width\")\n",
    "    height = ET.SubElement(size, \"height\")\n",
    "    depth = ET.SubElement(size, \"depth\")\n",
    "    width.text = str(img.shape[1])\n",
    "    height.text = str(img.shape[0])\n",
    "    depth.text = \"1\"\n",
    "    seg = ET.SubElement(data, \"segmented\")\n",
    "    seg.text = \"0\"\n",
    "    for target in doc[\"targets\"]:\n",
    "        obj = ET.SubElement(data, \"object\")\n",
    "        name = ET.SubElement(obj, \"name\")\n",
    "        name.text = \"lungopacity\"\n",
    "        pose = ET.SubElement(obj, \"pose\")\n",
    "        pose.text = \"Unspecified\"\n",
    "        truncated = ET.SubElement(obj, \"truncated\")\n",
    "        truncated.text = \"0\"\n",
    "        diff = ET.SubElement(obj, \"difficult\")\n",
    "        diff.text = \"0\"\n",
    "        bndbox = ET.SubElement(obj, \"bndbox\")\n",
    "        xmin = ET.SubElement(bndbox, \"xmin\")\n",
    "        xmin.text = str(int(target[0]))\n",
    "        ymin = ET.SubElement(bndbox, \"ymin\")\n",
    "        ymin.text = str(int(target[1]))\n",
    "        xmax = ET.SubElement(bndbox, \"xmax\")\n",
    "        xmax.text = str(int(target[0] + target[2]))\n",
    "        ymax = ET.SubElement(bndbox, \"ymax\")\n",
    "        ymax.text = str(int(target[1] + target[3]))\n",
    "    strdata = ET.tostring(data, encoding=\"unicode\")\n",
    "    with open(\"{:s}{:s}.xml\".format(folderpath, doc[\"patientID\"]), \"w\") as f:\n",
    "        f.write(strdata)\n",
    "        f.close()"
   ]
  },
  {
   "cell_type": "code",
   "execution_count": 9,
   "metadata": {},
   "outputs": [
    {
     "name": "stderr",
     "output_type": "stream",
     "text": [
      "/anaconda3/lib/python3.6/site-packages/ipykernel_launcher.py:7: DeprecationWarning: `imsave` is deprecated!\n",
      "`imsave` is deprecated in SciPy 1.0.0, and will be removed in 1.2.0.\n",
      "Use ``imageio.imwrite`` instead.\n",
      "  import sys\n"
     ]
    }
   ],
   "source": [
    "#Testing function\n",
    "img_xml_convert(lung_opacities[0])\n",
    "img_xml_convert(lung_opacities[2])"
   ]
  },
  {
   "cell_type": "code",
   "execution_count": 11,
   "metadata": {},
   "outputs": [],
   "source": [
    "shuffle(lung_opacities)"
   ]
  },
  {
   "cell_type": "code",
   "execution_count": 15,
   "metadata": {},
   "outputs": [
    {
     "name": "stderr",
     "output_type": "stream",
     "text": [
      "/anaconda3/lib/python3.6/site-packages/ipykernel_launcher.py:7: DeprecationWarning: `imsave` is deprecated!\n",
      "`imsave` is deprecated in SciPy 1.0.0, and will be removed in 1.2.0.\n",
      "Use ``imageio.imwrite`` instead.\n",
      "  import sys\n"
     ]
    }
   ],
   "source": [
    "img_xml_convert(lung_opacities[0], \"object-detection/images/\")"
   ]
  },
  {
   "cell_type": "code",
   "execution_count": 16,
   "metadata": {},
   "outputs": [
    {
     "name": "stderr",
     "output_type": "stream",
     "text": [
      "/anaconda3/lib/python3.6/site-packages/ipykernel_launcher.py:7: DeprecationWarning: `imsave` is deprecated!\n",
      "`imsave` is deprecated in SciPy 1.0.0, and will be removed in 1.2.0.\n",
      "Use ``imageio.imwrite`` instead.\n",
      "  import sys\n"
     ]
    }
   ],
   "source": [
    "for doc in lung_opacities:\n",
    "    img_xml_convert(doc, \"object-detection/images/\")"
   ]
  },
  {
   "cell_type": "code",
   "execution_count": 17,
   "metadata": {},
   "outputs": [],
   "source": [
    "os.chdir(\"object-detection/images/\")"
   ]
  },
  {
   "cell_type": "code",
   "execution_count": 45,
   "metadata": {},
   "outputs": [],
   "source": [
    "import re\n",
    "\n",
    "files = os.listdir()\n",
    "files.remove(\"train\")\n",
    "files.remove(\"test\")\n",
    "filenames = [f[:-4] for f in files]\n",
    "filenames = list(set(filenames))\n",
    "ix = np.arange(len(filenames)).tolist()\n",
    "shuffle(ix)"
   ]
  },
  {
   "cell_type": "code",
   "execution_count": 54,
   "metadata": {},
   "outputs": [],
   "source": [
    "split_ix = int(np.floor(0.8 * len(ix)))\n",
    "train_ix = ix[:split_ix]\n",
    "test_ix = ix[split_ix:]"
   ]
  },
  {
   "cell_type": "code",
   "execution_count": 55,
   "metadata": {},
   "outputs": [],
   "source": [
    "train_files = [(filenames[i] + \".jpg\", filenames[i] + \".xml\") for i in train_ix]\n",
    "test_files = [(filenames[i] + \".jpg\", filenames[i] + \".xml\") for i in test_ix]"
   ]
  },
  {
   "cell_type": "code",
   "execution_count": 60,
   "metadata": {},
   "outputs": [],
   "source": [
    "for (jpg, xml) in train_files:\n",
    "    copyfile(jpg, \"train/\"+ jpg)\n",
    "    copyfile(xml, \"train/\"+ xml)"
   ]
  },
  {
   "cell_type": "code",
   "execution_count": 61,
   "metadata": {},
   "outputs": [],
   "source": [
    "for (jpg, xml) in test_files:\n",
    "    copyfile(jpg, \"test/\"+ jpg)\n",
    "    copyfile(xml, \"test/\"+ xml)"
   ]
  },
  {
   "cell_type": "code",
   "execution_count": null,
   "metadata": {},
   "outputs": [],
   "source": []
  }
 ],
 "metadata": {
  "kernelspec": {
   "display_name": "Python 3",
   "language": "python",
   "name": "python3"
  },
  "language_info": {
   "codemirror_mode": {
    "name": "ipython",
    "version": 3
   },
   "file_extension": ".py",
   "mimetype": "text/x-python",
   "name": "python",
   "nbconvert_exporter": "python",
   "pygments_lexer": "ipython3",
   "version": "3.6.5"
  }
 },
 "nbformat": 4,
 "nbformat_minor": 2
}
